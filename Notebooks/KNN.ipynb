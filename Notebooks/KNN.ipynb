{
 "cells": [
  {
   "cell_type": "code",
   "execution_count": 1,
   "metadata": {},
   "outputs": [],
   "source": [
    "import pandas as pd\n",
    "import numpy as np\n",
    "import matplotlib.pyplot as plt\n",
    "from sklearn.model_selection import train_test_split\n",
    "from sklearn.neighbors import KNeighborsClassifier\n",
    "from sklearn.metrics import accuracy_score\n",
    "from sklearn.metrics import confusion_matrix\n",
    "import seaborn as sns\n",
    "from sklearn.metrics import precision_score, recall_score, f1_score\n",
    "from sklearn.discriminant_analysis import StandardScaler\n",
    "from imblearn.combine import SMOTEENN\n",
    "from imblearn.over_sampling import SMOTE\n",
    "from imblearn.under_sampling import RandomUnderSampler\n",
    "from sklearn.model_selection import GridSearchCV\n",
    "from sklearn.metrics import classification_report\n",
    "from sklearn.model_selection import cross_val_score"
   ]
  },
  {
   "cell_type": "code",
   "execution_count": 2,
   "metadata": {},
   "outputs": [],
   "source": [
    "# Read in the data\n",
    "df = pd.read_csv('/Users/shahadaleissa/hyper_code/Dataset/cleaned_hypertension_data.csv')"
   ]
  },
  {
   "cell_type": "code",
   "execution_count": 3,
   "metadata": {},
   "outputs": [],
   "source": [
    "def splitting_data(df, sampling):\n",
    "    if sampling == 'none':\n",
    "        X = df.drop(['Class'], axis=1)\n",
    "        y = df['Class']\n",
    "        return X, y\n",
    "    elif sampling == 'SMOTEENN':\n",
    "        smote_enn = SMOTEENN(random_state=0)\n",
    "        X = df.drop(['Class'], axis=1)\n",
    "        y = df['Class']\n",
    "        X_resampled, y_resampled = smote_enn.fit_resample(X, y)\n",
    "        return X_resampled, y_resampled\n",
    "    elif sampling == 'SMOTE':\n",
    "        smote = SMOTE(random_state=0)\n",
    "        X = df.drop(['Class'], axis=1)\n",
    "        y = df['Class']\n",
    "        X_resampled, y_resampled = smote.fit_resample(X, y)\n",
    "        return X_resampled, y_resampled\n",
    "    elif sampling == 'under':\n",
    "        rus = RandomUnderSampler(random_state=0)\n",
    "        X = df.drop(['Class'], axis=1)\n",
    "        y = df['Class']\n",
    "        X_resampled, y_resampled = rus.fit_resample(X, y)\n",
    "        return X_resampled, y_resampled\n",
    "        "
   ]
  },
  {
   "cell_type": "code",
   "execution_count": 4,
   "metadata": {},
   "outputs": [],
   "source": [
    "def training(X_train, y_train, k):\n",
    "    # Create a KNN classifier with 5 neighbors\n",
    "    knn = KNeighborsClassifier(n_neighbors=k)\n",
    "    # Fit the classifier to the data\n",
    "    knn.fit(X_train, y_train)\n",
    "    return knn"
   ]
  },
  {
   "cell_type": "code",
   "execution_count": 5,
   "metadata": {},
   "outputs": [],
   "source": [
    "def predict(knn, X_test ,y_test):\n",
    "    # Predict the labels for the training data X\n",
    "    y_pred = knn.predict(X_test)\n",
    "    cr=classification_report(y_test, y_pred)\n",
    "    print(cr)"
   ]
  },
  {
   "cell_type": "code",
   "execution_count": 6,
   "metadata": {},
   "outputs": [],
   "source": [
    "def optimize(X,y):\n",
    "    k_values = [i for i in range (1,31)]\n",
    "    scores = []\n",
    "\n",
    "    scaler = StandardScaler()\n",
    "    X = scaler.fit_transform(X)\n",
    "\n",
    "    for k in k_values:\n",
    "        knn = KNeighborsClassifier(n_neighbors=k)\n",
    "        score = cross_val_score(knn, X, y, cv=5)\n",
    "        scores.append(np.mean(score))\n",
    "\n",
    "    best_index = np.argmax(scores)\n",
    "    best_k = k_values[best_index]\n",
    "\n",
    "    return best_k, scores\n",
    "        "
   ]
  },
  {
   "cell_type": "code",
   "execution_count": 7,
   "metadata": {},
   "outputs": [],
   "source": [
    "def optimize_with_grid(X_train,y_train):\n",
    "    knn = KNeighborsClassifier()\n",
    "    param_grid = {'n_neighbors': np.arange(1, 31)}\n",
    "    knn_cv = GridSearchCV(knn, param_grid, cv=5)\n",
    "    knn_cv.fit(X_train, y_train)\n",
    "    print(knn_cv.best_params_)\n",
    "    print(knn_cv.best_score_)\n",
    "    return knn_cv.best_estimator_"
   ]
  },
  {
   "cell_type": "markdown",
   "metadata": {},
   "source": [
    "<h1> KNN on original data with optimization </h1>"
   ]
  },
  {
   "cell_type": "code",
   "execution_count": 8,
   "metadata": {},
   "outputs": [],
   "source": [
    "# using function with no sampling \n",
    "X, y= splitting_data(df, 'none')\n",
    "# Split the data into train and test sets\n",
    "X_train, X_test, y_train, y_test = train_test_split(X, y, test_size=0.2, random_state=123)\n",
    "# Scale the features using StandardScaler\n",
    "scaler = StandardScaler()\n",
    "X_train = scaler.fit_transform(X_train)\n",
    "X_test = scaler.transform(X_test)"
   ]
  },
  {
   "cell_type": "code",
   "execution_count": 9,
   "metadata": {},
   "outputs": [
    {
     "name": "stdout",
     "output_type": "stream",
     "text": [
      "Number of observations in each class in the training set:\n",
      "Class\n",
      "0    1013\n",
      "1     987\n",
      "Name: count, dtype: int64\n"
     ]
    }
   ],
   "source": [
    "#check number of observations in each class in the set\n",
    "print(\"Number of observations in each class in the training set:\")\n",
    "print(y.value_counts())"
   ]
  },
  {
   "cell_type": "code",
   "execution_count": 10,
   "metadata": {},
   "outputs": [
    {
     "name": "stdout",
     "output_type": "stream",
     "text": [
      "              precision    recall  f1-score   support\n",
      "\n",
      "           0       0.68      0.84      0.75       191\n",
      "           1       0.81      0.63      0.71       209\n",
      "\n",
      "    accuracy                           0.73       400\n",
      "   macro avg       0.75      0.74      0.73       400\n",
      "weighted avg       0.75      0.73      0.73       400\n",
      "\n"
     ]
    }
   ],
   "source": [
    "knn1 =training(X_train, y_train, 5)\n",
    "y_pred = predict(knn1, X_test, y_test)"
   ]
  },
  {
   "cell_type": "code",
   "execution_count": 11,
   "metadata": {},
   "outputs": [
    {
     "name": "stdout",
     "output_type": "stream",
     "text": [
      "              precision    recall  f1-score   support\n",
      "\n",
      "           0       0.71      0.92      0.80       191\n",
      "           1       0.90      0.66      0.76       209\n",
      "\n",
      "    accuracy                           0.78       400\n",
      "   macro avg       0.80      0.79      0.78       400\n",
      "weighted avg       0.81      0.78      0.78       400\n",
      "\n"
     ]
    }
   ],
   "source": [
    "best_k, scores = optimize(X,y)\n",
    "knn2 = training(X_train, y_train, best_k)\n",
    "prediction = predict(knn2, X_test, y_test)"
   ]
  },
  {
   "cell_type": "code",
   "execution_count": 12,
   "metadata": {},
   "outputs": [
    {
     "name": "stdout",
     "output_type": "stream",
     "text": [
      "{'n_neighbors': 21}\n",
      "0.76625\n",
      "              precision    recall  f1-score   support\n",
      "\n",
      "           0       0.71      0.91      0.80       191\n",
      "           1       0.89      0.67      0.76       209\n",
      "\n",
      "    accuracy                           0.78       400\n",
      "   macro avg       0.80      0.79      0.78       400\n",
      "weighted avg       0.80      0.78      0.78       400\n",
      "\n"
     ]
    }
   ],
   "source": [
    "best_knn = optimize_with_grid(X_train, y_train)\n",
    "prediction = predict(best_knn, X_test, y_test)"
   ]
  },
  {
   "cell_type": "markdown",
   "metadata": {},
   "source": [
    "<h1> KNN using SMOTE sampling </h1>"
   ]
  },
  {
   "cell_type": "code",
   "execution_count": 13,
   "metadata": {},
   "outputs": [],
   "source": [
    "X,y = splitting_data(df, 'SMOTE')\n",
    "X_train, X_test, y_train, y_test = train_test_split(X, y, test_size=0.2, random_state=123)\n",
    "scaler = StandardScaler()\n",
    "X_train = scaler.fit_transform(X_train)\n",
    "X_test = scaler.transform(X_test)"
   ]
  },
  {
   "cell_type": "code",
   "execution_count": 14,
   "metadata": {},
   "outputs": [
    {
     "name": "stdout",
     "output_type": "stream",
     "text": [
      "Number of observations in each class in the training set:\n",
      "Class\n",
      "1    1013\n",
      "0    1013\n",
      "Name: count, dtype: int64\n"
     ]
    }
   ],
   "source": [
    "#check number of observations in each class in the set\n",
    "print(\"Number of observations in each class in the training set:\")\n",
    "print(y.value_counts())"
   ]
  },
  {
   "cell_type": "code",
   "execution_count": 15,
   "metadata": {},
   "outputs": [
    {
     "name": "stdout",
     "output_type": "stream",
     "text": [
      "              precision    recall  f1-score   support\n",
      "\n",
      "           0       0.74      0.82      0.78       211\n",
      "           1       0.78      0.69      0.73       195\n",
      "\n",
      "    accuracy                           0.76       406\n",
      "   macro avg       0.76      0.75      0.75       406\n",
      "weighted avg       0.76      0.76      0.75       406\n",
      "\n"
     ]
    }
   ],
   "source": [
    "knn3 =training(X_train, y_train, 5)\n",
    "y_pred = predict(knn3, X_test, y_test)"
   ]
  },
  {
   "cell_type": "code",
   "execution_count": 16,
   "metadata": {},
   "outputs": [
    {
     "name": "stdout",
     "output_type": "stream",
     "text": [
      "              precision    recall  f1-score   support\n",
      "\n",
      "           0       0.75      0.89      0.81       211\n",
      "           1       0.85      0.69      0.76       195\n",
      "\n",
      "    accuracy                           0.79       406\n",
      "   macro avg       0.80      0.79      0.79       406\n",
      "weighted avg       0.80      0.79      0.79       406\n",
      "\n"
     ]
    }
   ],
   "source": [
    "best_k, scores = optimize(X,y)\n",
    "knn4 = training(X_train, y_train, best_k)\n",
    "prediction = predict(knn4, X_test, y_test)"
   ]
  },
  {
   "cell_type": "code",
   "execution_count": 17,
   "metadata": {},
   "outputs": [
    {
     "name": "stdout",
     "output_type": "stream",
     "text": [
      "{'n_neighbors': 15}\n",
      "0.7666666666666666\n",
      "              precision    recall  f1-score   support\n",
      "\n",
      "           0       0.77      0.88      0.82       211\n",
      "           1       0.84      0.71      0.77       195\n",
      "\n",
      "    accuracy                           0.80       406\n",
      "   macro avg       0.81      0.79      0.80       406\n",
      "weighted avg       0.80      0.80      0.80       406\n",
      "\n"
     ]
    }
   ],
   "source": [
    "best_knn = optimize_with_grid(X_train, y_train)\n",
    "prediction = predict(best_knn, X_test, y_test)"
   ]
  },
  {
   "cell_type": "markdown",
   "metadata": {},
   "source": [
    "<h1> KNN using SMOTEENN sampling </h1>"
   ]
  },
  {
   "cell_type": "code",
   "execution_count": 18,
   "metadata": {},
   "outputs": [],
   "source": [
    "X,y = splitting_data(df, 'SMOTEENN')\n",
    "X_train, X_test, y_train, y_test = train_test_split(X, y, test_size=0.2, random_state=123)\n",
    "scaler = StandardScaler()\n",
    "X_train = scaler.fit_transform(X_train)\n",
    "X_test = scaler.transform(X_test)"
   ]
  },
  {
   "cell_type": "code",
   "execution_count": 19,
   "metadata": {},
   "outputs": [
    {
     "name": "stdout",
     "output_type": "stream",
     "text": [
      "Number of observations in each class in the set:\n",
      "Class\n",
      "1    151\n",
      "0    137\n",
      "Name: count, dtype: int64\n"
     ]
    }
   ],
   "source": [
    "print(\"Number of observations in each class in the set:\")\n",
    "print(y.value_counts())"
   ]
  },
  {
   "cell_type": "code",
   "execution_count": 20,
   "metadata": {},
   "outputs": [
    {
     "name": "stdout",
     "output_type": "stream",
     "text": [
      "              precision    recall  f1-score   support\n",
      "\n",
      "           0       0.64      0.72      0.68        25\n",
      "           1       0.77      0.70      0.73        33\n",
      "\n",
      "    accuracy                           0.71        58\n",
      "   macro avg       0.70      0.71      0.70        58\n",
      "weighted avg       0.71      0.71      0.71        58\n",
      "\n"
     ]
    }
   ],
   "source": [
    "knn5 =training(X_train, y_train, 5)\n",
    "y_pred = predict(knn5, X_test, y_test)"
   ]
  },
  {
   "cell_type": "code",
   "execution_count": 21,
   "metadata": {},
   "outputs": [
    {
     "name": "stdout",
     "output_type": "stream",
     "text": [
      "              precision    recall  f1-score   support\n",
      "\n",
      "           0       0.63      0.76      0.69        25\n",
      "           1       0.79      0.67      0.72        33\n",
      "\n",
      "    accuracy                           0.71        58\n",
      "   macro avg       0.71      0.71      0.71        58\n",
      "weighted avg       0.72      0.71      0.71        58\n",
      "\n"
     ]
    }
   ],
   "source": [
    "best_k, scores = optimize(X,y)\n",
    "knn6 = training(X_train, y_train, best_k)\n",
    "prediction = predict(knn6, X_test, y_test)"
   ]
  },
  {
   "cell_type": "code",
   "execution_count": 22,
   "metadata": {},
   "outputs": [
    {
     "name": "stdout",
     "output_type": "stream",
     "text": [
      "{'n_neighbors': 21}\n",
      "0.7478260869565218\n",
      "              precision    recall  f1-score   support\n",
      "\n",
      "           0       0.67      0.80      0.73        25\n",
      "           1       0.82      0.70      0.75        33\n",
      "\n",
      "    accuracy                           0.74        58\n",
      "   macro avg       0.74      0.75      0.74        58\n",
      "weighted avg       0.75      0.74      0.74        58\n",
      "\n"
     ]
    }
   ],
   "source": [
    "best_knn = optimize_with_grid(X_train, y_train)\n",
    "prediction = predict(best_knn, X_test, y_test)"
   ]
  },
  {
   "cell_type": "markdown",
   "metadata": {},
   "source": [
    "<h1> KNN on Random undersampling </h1>"
   ]
  },
  {
   "cell_type": "code",
   "execution_count": 23,
   "metadata": {},
   "outputs": [],
   "source": [
    "X,y = splitting_data(df, 'under')\n",
    "X_train, X_test, y_train, y_test = train_test_split(X, y, test_size=0.2, random_state=123)\n",
    "scaler = StandardScaler()\n",
    "X_train = scaler.fit_transform(X_train)\n",
    "X_test = scaler.transform(X_test)"
   ]
  },
  {
   "cell_type": "code",
   "execution_count": 24,
   "metadata": {},
   "outputs": [
    {
     "name": "stdout",
     "output_type": "stream",
     "text": [
      "Number of observations in each class in the set:\n",
      "Class\n",
      "0    987\n",
      "1    987\n",
      "Name: count, dtype: int64\n"
     ]
    }
   ],
   "source": [
    "print(\"Number of observations in each class in the set:\")\n",
    "print(y.value_counts())"
   ]
  },
  {
   "cell_type": "code",
   "execution_count": 25,
   "metadata": {},
   "outputs": [
    {
     "name": "stdout",
     "output_type": "stream",
     "text": [
      "              precision    recall  f1-score   support\n",
      "\n",
      "           0       0.74      0.82      0.78       200\n",
      "           1       0.80      0.70      0.75       195\n",
      "\n",
      "    accuracy                           0.76       395\n",
      "   macro avg       0.77      0.76      0.76       395\n",
      "weighted avg       0.77      0.76      0.76       395\n",
      "\n"
     ]
    }
   ],
   "source": [
    "knn7 =training(X_train, y_train, 5)\n",
    "y_pred = predict(knn7, X_test, y_test)"
   ]
  },
  {
   "cell_type": "code",
   "execution_count": 26,
   "metadata": {},
   "outputs": [
    {
     "name": "stdout",
     "output_type": "stream",
     "text": [
      "              precision    recall  f1-score   support\n",
      "\n",
      "           0       0.76      0.88      0.81       200\n",
      "           1       0.85      0.71      0.77       195\n",
      "\n",
      "    accuracy                           0.79       395\n",
      "   macro avg       0.80      0.79      0.79       395\n",
      "weighted avg       0.80      0.79      0.79       395\n",
      "\n"
     ]
    }
   ],
   "source": [
    "best_k, scores = optimize(X,y)\n",
    "knn8 = training(X_train, y_train, best_k)\n",
    "prediction = predict(knn8, X_test, y_test)"
   ]
  },
  {
   "cell_type": "code",
   "execution_count": 27,
   "metadata": {},
   "outputs": [
    {
     "name": "stdout",
     "output_type": "stream",
     "text": [
      "{'n_neighbors': 13}\n",
      "0.7643982318665863\n",
      "              precision    recall  f1-score   support\n",
      "\n",
      "           0       0.75      0.85      0.80       200\n",
      "           1       0.82      0.71      0.76       195\n",
      "\n",
      "    accuracy                           0.78       395\n",
      "   macro avg       0.79      0.78      0.78       395\n",
      "weighted avg       0.79      0.78      0.78       395\n",
      "\n"
     ]
    }
   ],
   "source": [
    "best_knn = optimize_with_grid(X_train, y_train)\n",
    "prediction = predict(best_knn, X_test, y_test)"
   ]
  }
 ],
 "metadata": {
  "kernelspec": {
   "display_name": "Python 3",
   "language": "python",
   "name": "python3"
  },
  "language_info": {
   "codemirror_mode": {
    "name": "ipython",
    "version": 3
   },
   "file_extension": ".py",
   "mimetype": "text/x-python",
   "name": "python",
   "nbconvert_exporter": "python",
   "pygments_lexer": "ipython3",
   "version": "3.11.5"
  }
 },
 "nbformat": 4,
 "nbformat_minor": 2
}
