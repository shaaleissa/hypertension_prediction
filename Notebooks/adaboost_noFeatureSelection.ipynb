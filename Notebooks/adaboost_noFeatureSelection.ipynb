{
  "nbformat": 4,
  "nbformat_minor": 0,
  "metadata": {
    "colab": {
      "provenance": []
    },
    "kernelspec": {
      "name": "python3",
      "display_name": "Python 3"
    },
    "language_info": {
      "name": "python"
    }
  },
  "cells": [
    {
      "cell_type": "markdown",
      "source": [
        "## loading liberaries"
      ],
      "metadata": {
        "id": "Hm0CSDsijo6a"
      }
    },
    {
      "cell_type": "code",
      "source": [
        "import pandas as pd\n",
        "import numpy as np\n",
        "from sklearn.model_selection import train_test_split, cross_val_score, StratifiedKFold\n",
        "from sklearn.ensemble import AdaBoostClassifier\n",
        "from sklearn.metrics import accuracy_score, precision_score, recall_score, f1_score, confusion_matrix, precision_recall_curve, roc_curve, auc\n",
        "from sklearn.preprocessing import StandardScaler\n",
        "from scipy import stats"
      ],
      "metadata": {
        "id": "zVpBl28wjYo1"
      },
      "execution_count": 12,
      "outputs": []
    },
    {
      "cell_type": "code",
      "source": [
        "# Load your dataset\n",
        "file_path = '/content/cleaned_hypertension_data-2.csv'\n",
        "data = pd.read_csv(file_path)\n",
        "\n",
        "# Outlier detection and removal\n",
        "z_scores = np.abs(stats.zscore(data))\n",
        "data = data[(z_scores < 3).all(axis=1)]\n",
        "# Splitting data into features and target\n",
        "X = data.drop('Class', axis=1)  # Assuming 'Class' is the target column\n",
        "y = data['Class']"
      ],
      "metadata": {
        "id": "lmzSlW58j6H9"
      },
      "execution_count": 13,
      "outputs": []
    },
    {
      "cell_type": "code",
      "source": [
        "# Applying Standard Scaling\n",
        "scaler = StandardScaler()\n",
        "X_scaled = scaler.fit_transform(X)\n",
        "\n",
        "# Define a range of hyperparameters for tuning\n",
        "n_estimators_range = [50, 100, 150, 200]\n",
        "learning_rate_range = [0.01, 0.1, 1.0]\n",
        "\n",
        "best_accuracy = 0\n",
        "best_params = {}\n",
        "# Hyperparameter Tuning\n",
        "for n_estimators in n_estimators_range:\n",
        "    for learning_rate in learning_rate_range:\n",
        "        model = AdaBoostClassifier(n_estimators=n_estimators, learning_rate=learning_rate, random_state=42)\n",
        "        skf = StratifiedKFold(n_splits=10, shuffle=True, random_state=42)\n",
        "        cv_results = cross_val_score(model, X_scaled, y, cv=skf, scoring='accuracy')\n",
        "        max_accuracy_index = np.argmax(cv_results)\n",
        "        if cv_results[max_accuracy_index] > best_accuracy:\n",
        "            best_accuracy = cv_results[max_accuracy_index]\n",
        "            best_params = {'n_estimators': n_estimators, 'learning_rate': learning_rate}"
      ],
      "metadata": {
        "id": "_OvdhJBBj7wt"
      },
      "execution_count": 14,
      "outputs": []
    },
    {
      "cell_type": "code",
      "source": [
        "# Training the best model with optimal threshold\n",
        "best_model = AdaBoostClassifier(**best_params, random_state=42)\n",
        "X_train_final, X_test_final, y_train_final, y_test_final = train_test_split(X_scaled, y, test_size=0.2, random_state=42)\n",
        "best_model.fit(X_train_final, y_train_final)\n",
        "y_pred_proba_final = best_model.predict_proba(X_test_final)[:, 1]"
      ],
      "metadata": {
        "id": "HWXQbhqIkrtc"
      },
      "execution_count": 15,
      "outputs": []
    },
    {
      "cell_type": "code",
      "source": [
        "# Optimal Threshold Calculation\n",
        "precision_final, recall_final, thresholds_final = precision_recall_curve(y_test_final, y_pred_proba_final)\n",
        "fscore_final = (2 * precision_final * recall_final) / (precision_final + recall_final)\n",
        "ix_final = np.argmax(fscore_final)\n",
        "optimal_threshold_final = thresholds_final[ix_final]\n",
        "y_pred_final = (y_pred_proba_final >= optimal_threshold_final).astype(int)\n",
        "\n",
        "\n"
      ],
      "metadata": {
        "id": "1bfRblAxlB-H"
      },
      "execution_count": 16,
      "outputs": []
    },
    {
      "cell_type": "code",
      "source": [
        "# Evaluating model performance\n",
        "accuracy_final = accuracy_score(y_test_final, y_pred_final)  # Correct accuracy calculation\n",
        "precision_final = precision_score(y_test_final, y_pred_final)\n",
        "recall_final = recall_score(y_test_final, y_pred_final)\n",
        "f1_final = f1_score(y_test_final, y_pred_final)\n",
        "conf_matrix_final = confusion_matrix(y_test_final, y_pred_final)\n",
        "\n",
        "# ROC Curve and AUC\n",
        "fpr, tpr, _ = roc_curve(y_test_final, y_pred_proba_final)\n",
        "roc_auc = auc(fpr, tpr)\n",
        "\n",
        "# Print results\n",
        "print(f\"Best Parameters: {best_params}\")\n",
        "print(f\"Optimal Threshold: {optimal_threshold_final}\")\n",
        "print(f\"Accuracy: {accuracy_final}\")\n",
        "print(f\"Precision: {precision_final}\")\n",
        "print(f\"Recall: {recall_final}\")\n",
        "print(f\"F1 Score: {f1_final}\")\n",
        "print(f\"Confusion Matrix:\\n{conf_matrix_final}\")\n",
        "print(f\"ROC AUC: {roc_auc}\")"
      ],
      "metadata": {
        "colab": {
          "base_uri": "https://localhost:8080/"
        },
        "id": "65dJWjBklCtE",
        "outputId": "30bc95aa-a68b-43d9-a919-afcabd4cef89"
      },
      "execution_count": 17,
      "outputs": [
        {
          "output_type": "stream",
          "name": "stdout",
          "text": [
            "Best Parameters: {'n_estimators': 50, 'learning_rate': 0.1}\n",
            "Optimal Threshold: 0.47485040925205974\n",
            "Accuracy: 0.8775\n",
            "Precision: 0.8168316831683168\n",
            "Recall: 0.9322033898305084\n",
            "F1 Score: 0.8707124010554088\n",
            "Confusion Matrix:\n",
            "[[186  37]\n",
            " [ 12 165]]\n",
            "ROC AUC: 0.9400699247548834\n"
          ]
        }
      ]
    }
  ]
}