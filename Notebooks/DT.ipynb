{
 "cells": [
  {
   "cell_type": "code",
   "execution_count": 1,
   "metadata": {},
   "outputs": [],
   "source": [
    "import pandas as pd\n",
    "import numpy as np\n",
    "import matplotlib.pyplot as plt\n",
    "from sklearn.model_selection import train_test_split\n",
    "from sklearn.tree import DecisionTreeClassifier\n",
    "from sklearn.metrics import accuracy_score\n",
    "from sklearn.metrics import confusion_matrix\n",
    "import seaborn as sns\n",
    "from sklearn.metrics import precision_score, recall_score, f1_score\n",
    "from sklearn.discriminant_analysis import StandardScaler\n",
    "from imblearn.combine import SMOTEENN\n",
    "from imblearn.over_sampling import SMOTE\n",
    "from imblearn.under_sampling import RandomUnderSampler\n",
    "from sklearn.model_selection import GridSearchCV\n",
    "from sklearn.metrics import classification_report\n",
    "from sklearn.model_selection import cross_val_score\n",
    "from joblib import dump\n"
   ]
  },
  {
   "cell_type": "code",
   "execution_count": 2,
   "metadata": {},
   "outputs": [],
   "source": [
    "random_state=45\n",
    "best_model = {}"
   ]
  },
  {
   "cell_type": "code",
   "execution_count": 3,
   "metadata": {},
   "outputs": [
    {
     "data": {
      "text/html": [
       "<div>\n",
       "<style scoped>\n",
       "    .dataframe tbody tr th:only-of-type {\n",
       "        vertical-align: middle;\n",
       "    }\n",
       "\n",
       "    .dataframe tbody tr th {\n",
       "        vertical-align: top;\n",
       "    }\n",
       "\n",
       "    .dataframe thead th {\n",
       "        text-align: right;\n",
       "    }\n",
       "</style>\n",
       "<table border=\"1\" class=\"dataframe\">\n",
       "  <thead>\n",
       "    <tr style=\"text-align: right;\">\n",
       "      <th></th>\n",
       "      <th>Class</th>\n",
       "      <th>Level_of_Hemoglobin</th>\n",
       "      <th>Age</th>\n",
       "      <th>BMI</th>\n",
       "      <th>Sex</th>\n",
       "      <th>Smoking</th>\n",
       "      <th>Physical_activity</th>\n",
       "      <th>salt_content_in_the_diet</th>\n",
       "      <th>Level_of_Stress</th>\n",
       "      <th>Chronic_kidney_disease</th>\n",
       "      <th>Adrenal_and_thyroid_disorders</th>\n",
       "      <th>Genetic_Pedigree_Coefficient</th>\n",
       "      <th>alcohol_consumption_per_day</th>\n",
       "    </tr>\n",
       "  </thead>\n",
       "  <tbody>\n",
       "    <tr>\n",
       "      <th>0</th>\n",
       "      <td>1</td>\n",
       "      <td>11.28</td>\n",
       "      <td>34</td>\n",
       "      <td>23</td>\n",
       "      <td>1</td>\n",
       "      <td>0</td>\n",
       "      <td>45961</td>\n",
       "      <td>48071</td>\n",
       "      <td>2</td>\n",
       "      <td>1</td>\n",
       "      <td>1</td>\n",
       "      <td>0.90</td>\n",
       "      <td>336.333333</td>\n",
       "    </tr>\n",
       "    <tr>\n",
       "      <th>1</th>\n",
       "      <td>0</td>\n",
       "      <td>9.75</td>\n",
       "      <td>54</td>\n",
       "      <td>33</td>\n",
       "      <td>1</td>\n",
       "      <td>0</td>\n",
       "      <td>26106</td>\n",
       "      <td>25333</td>\n",
       "      <td>3</td>\n",
       "      <td>0</td>\n",
       "      <td>0</td>\n",
       "      <td>0.23</td>\n",
       "      <td>205.000000</td>\n",
       "    </tr>\n",
       "    <tr>\n",
       "      <th>2</th>\n",
       "      <td>1</td>\n",
       "      <td>10.79</td>\n",
       "      <td>70</td>\n",
       "      <td>49</td>\n",
       "      <td>0</td>\n",
       "      <td>0</td>\n",
       "      <td>9995</td>\n",
       "      <td>29465</td>\n",
       "      <td>2</td>\n",
       "      <td>1</td>\n",
       "      <td>0</td>\n",
       "      <td>0.91</td>\n",
       "      <td>67.000000</td>\n",
       "    </tr>\n",
       "    <tr>\n",
       "      <th>3</th>\n",
       "      <td>0</td>\n",
       "      <td>11.00</td>\n",
       "      <td>71</td>\n",
       "      <td>50</td>\n",
       "      <td>0</td>\n",
       "      <td>0</td>\n",
       "      <td>10635</td>\n",
       "      <td>7439</td>\n",
       "      <td>1</td>\n",
       "      <td>1</td>\n",
       "      <td>0</td>\n",
       "      <td>0.43</td>\n",
       "      <td>242.000000</td>\n",
       "    </tr>\n",
       "    <tr>\n",
       "      <th>4</th>\n",
       "      <td>1</td>\n",
       "      <td>14.17</td>\n",
       "      <td>52</td>\n",
       "      <td>19</td>\n",
       "      <td>0</td>\n",
       "      <td>0</td>\n",
       "      <td>15619</td>\n",
       "      <td>49644</td>\n",
       "      <td>2</td>\n",
       "      <td>0</td>\n",
       "      <td>0</td>\n",
       "      <td>0.83</td>\n",
       "      <td>397.000000</td>\n",
       "    </tr>\n",
       "    <tr>\n",
       "      <th>...</th>\n",
       "      <td>...</td>\n",
       "      <td>...</td>\n",
       "      <td>...</td>\n",
       "      <td>...</td>\n",
       "      <td>...</td>\n",
       "      <td>...</td>\n",
       "      <td>...</td>\n",
       "      <td>...</td>\n",
       "      <td>...</td>\n",
       "      <td>...</td>\n",
       "      <td>...</td>\n",
       "      <td>...</td>\n",
       "      <td>...</td>\n",
       "    </tr>\n",
       "    <tr>\n",
       "      <th>1995</th>\n",
       "      <td>1</td>\n",
       "      <td>10.14</td>\n",
       "      <td>69</td>\n",
       "      <td>26</td>\n",
       "      <td>1</td>\n",
       "      <td>1</td>\n",
       "      <td>26118</td>\n",
       "      <td>47568</td>\n",
       "      <td>3</td>\n",
       "      <td>1</td>\n",
       "      <td>0</td>\n",
       "      <td>0.02</td>\n",
       "      <td>144.000000</td>\n",
       "    </tr>\n",
       "    <tr>\n",
       "      <th>1996</th>\n",
       "      <td>1</td>\n",
       "      <td>11.77</td>\n",
       "      <td>24</td>\n",
       "      <td>45</td>\n",
       "      <td>1</td>\n",
       "      <td>1</td>\n",
       "      <td>2572</td>\n",
       "      <td>8063</td>\n",
       "      <td>3</td>\n",
       "      <td>1</td>\n",
       "      <td>1</td>\n",
       "      <td>1.00</td>\n",
       "      <td>299.666667</td>\n",
       "    </tr>\n",
       "    <tr>\n",
       "      <th>1997</th>\n",
       "      <td>1</td>\n",
       "      <td>16.91</td>\n",
       "      <td>18</td>\n",
       "      <td>42</td>\n",
       "      <td>0</td>\n",
       "      <td>0</td>\n",
       "      <td>14933</td>\n",
       "      <td>24753</td>\n",
       "      <td>2</td>\n",
       "      <td>1</td>\n",
       "      <td>1</td>\n",
       "      <td>0.22</td>\n",
       "      <td>369.000000</td>\n",
       "    </tr>\n",
       "    <tr>\n",
       "      <th>1998</th>\n",
       "      <td>0</td>\n",
       "      <td>11.15</td>\n",
       "      <td>46</td>\n",
       "      <td>45</td>\n",
       "      <td>1</td>\n",
       "      <td>1</td>\n",
       "      <td>18157</td>\n",
       "      <td>15275</td>\n",
       "      <td>3</td>\n",
       "      <td>0</td>\n",
       "      <td>1</td>\n",
       "      <td>0.72</td>\n",
       "      <td>253.000000</td>\n",
       "    </tr>\n",
       "    <tr>\n",
       "      <th>1999</th>\n",
       "      <td>1</td>\n",
       "      <td>11.36</td>\n",
       "      <td>41</td>\n",
       "      <td>45</td>\n",
       "      <td>0</td>\n",
       "      <td>0</td>\n",
       "      <td>20729</td>\n",
       "      <td>30463</td>\n",
       "      <td>1</td>\n",
       "      <td>1</td>\n",
       "      <td>0</td>\n",
       "      <td>0.09</td>\n",
       "      <td>230.000000</td>\n",
       "    </tr>\n",
       "  </tbody>\n",
       "</table>\n",
       "<p>2000 rows × 13 columns</p>\n",
       "</div>"
      ],
      "text/plain": [
       "      Class  Level_of_Hemoglobin  Age  BMI  Sex  Smoking  Physical_activity  \\\n",
       "0         1                11.28   34   23    1        0              45961   \n",
       "1         0                 9.75   54   33    1        0              26106   \n",
       "2         1                10.79   70   49    0        0               9995   \n",
       "3         0                11.00   71   50    0        0              10635   \n",
       "4         1                14.17   52   19    0        0              15619   \n",
       "...     ...                  ...  ...  ...  ...      ...                ...   \n",
       "1995      1                10.14   69   26    1        1              26118   \n",
       "1996      1                11.77   24   45    1        1               2572   \n",
       "1997      1                16.91   18   42    0        0              14933   \n",
       "1998      0                11.15   46   45    1        1              18157   \n",
       "1999      1                11.36   41   45    0        0              20729   \n",
       "\n",
       "      salt_content_in_the_diet  Level_of_Stress  Chronic_kidney_disease  \\\n",
       "0                        48071                2                       1   \n",
       "1                        25333                3                       0   \n",
       "2                        29465                2                       1   \n",
       "3                         7439                1                       1   \n",
       "4                        49644                2                       0   \n",
       "...                        ...              ...                     ...   \n",
       "1995                     47568                3                       1   \n",
       "1996                      8063                3                       1   \n",
       "1997                     24753                2                       1   \n",
       "1998                     15275                3                       0   \n",
       "1999                     30463                1                       1   \n",
       "\n",
       "      Adrenal_and_thyroid_disorders  Genetic_Pedigree_Coefficient  \\\n",
       "0                                 1                          0.90   \n",
       "1                                 0                          0.23   \n",
       "2                                 0                          0.91   \n",
       "3                                 0                          0.43   \n",
       "4                                 0                          0.83   \n",
       "...                             ...                           ...   \n",
       "1995                              0                          0.02   \n",
       "1996                              1                          1.00   \n",
       "1997                              1                          0.22   \n",
       "1998                              1                          0.72   \n",
       "1999                              0                          0.09   \n",
       "\n",
       "      alcohol_consumption_per_day  \n",
       "0                      336.333333  \n",
       "1                      205.000000  \n",
       "2                       67.000000  \n",
       "3                      242.000000  \n",
       "4                      397.000000  \n",
       "...                           ...  \n",
       "1995                   144.000000  \n",
       "1996                   299.666667  \n",
       "1997                   369.000000  \n",
       "1998                   253.000000  \n",
       "1999                   230.000000  \n",
       "\n",
       "[2000 rows x 13 columns]"
      ]
     },
     "execution_count": 3,
     "metadata": {},
     "output_type": "execute_result"
    }
   ],
   "source": [
    "# Read in the data\n",
    "df = pd.read_csv('../Dataset/cleaned_hypertension_data.csv')\n",
    "df"
   ]
  },
  {
   "cell_type": "code",
   "execution_count": 4,
   "metadata": {},
   "outputs": [],
   "source": [
    "from imblearn.under_sampling import ClusterCentroids, TomekLinks\n",
    "from imblearn.over_sampling import RandomOverSampler\n",
    "\n",
    "def splitting_data(df, sampling):\n",
    "    X = df.drop(['Class'], axis=1)\n",
    "    y = df['Class']\n",
    "\n",
    "    if sampling == 'none':\n",
    "        return X, y\n",
    "    elif sampling == 'SMOTEENN':\n",
    "        sampler = SMOTEENN(random_state=random_state)\n",
    "    elif sampling == 'SMOTE':\n",
    "        sampler = SMOTE(random_state=random_state)\n",
    "    elif sampling == 'under':\n",
    "        sampler = RandomUnderSampler(random_state=random_state)\n",
    "    elif sampling == 'over':\n",
    "        sampler = RandomOverSampler(random_state=random_state)\n",
    "    elif sampling == 'cluster_centroids':\n",
    "        sampler = ClusterCentroids(random_state=random_state)\n",
    "    elif sampling == 'tomek_links':\n",
    "        sampler = TomekLinks()\n",
    "\n",
    "    X_resampled, y_resampled = sampler.fit_resample(X, y)\n",
    "    return X_resampled, y_resampled\n"
   ]
  },
  {
   "cell_type": "code",
   "execution_count": 5,
   "metadata": {},
   "outputs": [],
   "source": [
    "def training(X_train, y_train):\n",
    "    # Create a KNN classifier with 5 neighbors\n",
    "    DT = DecisionTreeClassifier(random_state=random_state)\n",
    "    # Fit the classifier to the data\n",
    "    DT.fit(X_train, y_train)\n",
    "    return DT"
   ]
  },
  {
   "cell_type": "code",
   "execution_count": 6,
   "metadata": {},
   "outputs": [],
   "source": [
    "def best_model(modelName, accuracy, precision, recall, f1):\n",
    "    best_model[modelName] = {\n",
    "        'accuracy': accuracy,\n",
    "        'precision': precision,\n",
    "        'recall': recall,\n",
    "        'f1': f1\n",
    "    }\n"
   ]
  },
  {
   "cell_type": "code",
   "execution_count": 7,
   "metadata": {},
   "outputs": [],
   "source": [
    "def predict(modleName, DT, X_test ,y_test):\n",
    "    # Predict the labels for the training data X\n",
    "    y_pred = DT.predict(X_test)\n",
    "    accuracy = accuracy_score(y_test, y_pred)\n",
    "    cr=classification_report(y_test, y_pred, output_dict=True)\n",
    "    precision = cr['weighted avg']['precision']\n",
    "    recall = cr['weighted avg']['recall']\n",
    "    f1 = cr['weighted avg']['f1-score']\n",
    "    best_model(modleName,accuracy,precision,recall,f1)\n",
    "    cr=classification_report(y_test, y_pred)\n",
    "    print(cr)"
   ]
  },
  {
   "cell_type": "code",
   "execution_count": 8,
   "metadata": {},
   "outputs": [],
   "source": [
    "\n",
    "\n",
    "\n",
    "\n",
    "from sklearn.tree import DecisionTreeClassifier\n",
    "from sklearn.model_selection import GridSearchCV\n",
    "from sklearn.preprocessing import StandardScaler\n",
    "from sklearn.pipeline import Pipeline\n",
    "\n",
    "def optimize_with_grid(X_train, y_train):\n",
    "    # Define a pipeline that first scales the data and then applies the classifier\n",
    "    pipe = Pipeline([\n",
    "        # ('scaler', StandardScaler()),\n",
    "        ('dt', DecisionTreeClassifier(random_state=random_state))\n",
    "    ])\n",
    "\n",
    "    # Define the parameter grid to search\n",
    "    param_grid = {\n",
    "        'dt__max_depth': [None, 10, 20, 30, 40, 50],\n",
    "        'dt__min_samples_split': [2, 5, 10],\n",
    "        'dt__min_samples_leaf': [1, 2, 4],\n",
    "        'dt__criterion': ['gini', 'entropy']\n",
    "    }\n",
    "\n",
    "    # Create the GridSearchCV object\n",
    "    DT_cv = GridSearchCV(pipe,param_grid, cv=5, verbose=1, n_jobs=-1)\n",
    "\n",
    "    # Perform the grid search on the provided data\n",
    "    DT_cv.fit(X_train, y_train)\n",
    "\n",
    "    # Best parameters and best score\n",
    "    best_params = DT_cv.best_params_\n",
    "    best_score = DT_cv.best_score_\n",
    "    best_estimator = DT_cv.best_estimator_\n",
    "    print(best_params)\n",
    "    print(best_score)\n",
    "\n",
    "    return best_estimator\n"
   ]
  },
  {
   "cell_type": "markdown",
   "metadata": {},
   "source": [
    "<h1> DT on original data with optimization </h1>"
   ]
  },
  {
   "cell_type": "code",
   "execution_count": 9,
   "metadata": {},
   "outputs": [],
   "source": [
    "# using function with no sampling \n",
    "X, y= splitting_data(df, 'none')\n",
    "# Split the data into train and test sets\n",
    "X_train, X_test, y_train, y_test = train_test_split(X, y, test_size=0.2, random_state=random_state)\n",
    "# Scale the features using StandardScaler\n",
    "scaler = StandardScaler()\n",
    "X_train = scaler.fit_transform(X_train)\n",
    "X_test = scaler.transform(X_test)"
   ]
  },
  {
   "cell_type": "code",
   "execution_count": 10,
   "metadata": {},
   "outputs": [
    {
     "name": "stdout",
     "output_type": "stream",
     "text": [
      "Number of observations in each class in the training set:\n",
      "0    1013\n",
      "1     987\n",
      "Name: Class, dtype: int64\n"
     ]
    }
   ],
   "source": [
    "#check number of observations in each class in the set\n",
    "print(\"Number of observations in each class in the training set:\")\n",
    "print(y.value_counts())"
   ]
  },
  {
   "cell_type": "code",
   "execution_count": 11,
   "metadata": {},
   "outputs": [
    {
     "name": "stdout",
     "output_type": "stream",
     "text": [
      "              precision    recall  f1-score   support\n",
      "\n",
      "           0       0.83      0.83      0.83       202\n",
      "           1       0.82      0.82      0.82       198\n",
      "\n",
      "    accuracy                           0.82       400\n",
      "   macro avg       0.82      0.82      0.82       400\n",
      "weighted avg       0.82      0.82      0.82       400\n",
      "\n"
     ]
    }
   ],
   "source": [
    "DT1 =training(X_train, y_train)\n",
    "y_pred = predict('original',DT1, X_test, y_test)"
   ]
  },
  {
   "cell_type": "code",
   "execution_count": 12,
   "metadata": {},
   "outputs": [
    {
     "name": "stdout",
     "output_type": "stream",
     "text": [
      "Fitting 5 folds for each of 108 candidates, totalling 540 fits\n",
      "{'dt__criterion': 'entropy', 'dt__max_depth': 10, 'dt__min_samples_leaf': 4, 'dt__min_samples_split': 10}\n",
      "0.8543749999999999\n",
      "              precision    recall  f1-score   support\n",
      "\n",
      "           0       0.83      0.88      0.85       202\n",
      "           1       0.87      0.81      0.84       198\n",
      "\n",
      "    accuracy                           0.85       400\n",
      "   macro avg       0.85      0.85      0.85       400\n",
      "weighted avg       0.85      0.85      0.85       400\n",
      "\n"
     ]
    }
   ],
   "source": [
    "best_DT1 = optimize_with_grid(X_train, y_train)\n",
    "prediction = predict('original_grid',best_DT1, X_test, y_test)"
   ]
  },
  {
   "cell_type": "markdown",
   "metadata": {},
   "source": [
    "<h1> DT using SMOTE sampling </h1>"
   ]
  },
  {
   "cell_type": "code",
   "execution_count": 13,
   "metadata": {},
   "outputs": [],
   "source": [
    "X,y = splitting_data(df, 'SMOTE')\n",
    "X_train, X_test, y_train, y_test = train_test_split(X, y, test_size=0.2, random_state=random_state)\n",
    "scaler = StandardScaler()\n",
    "X_train = scaler.fit_transform(X_train)\n",
    "X_test = scaler.transform(X_test)"
   ]
  },
  {
   "cell_type": "code",
   "execution_count": 14,
   "metadata": {},
   "outputs": [
    {
     "name": "stdout",
     "output_type": "stream",
     "text": [
      "Number of observations in each class in the training set:\n",
      "1    1013\n",
      "0    1013\n",
      "Name: Class, dtype: int64\n"
     ]
    }
   ],
   "source": [
    "#check number of observations in each class in the set\n",
    "print(\"Number of observations in each class in the training set:\")\n",
    "print(y.value_counts())"
   ]
  },
  {
   "cell_type": "code",
   "execution_count": 15,
   "metadata": {},
   "outputs": [
    {
     "name": "stdout",
     "output_type": "stream",
     "text": [
      "              precision    recall  f1-score   support\n",
      "\n",
      "           0       0.79      0.81      0.80       205\n",
      "           1       0.81      0.78      0.79       201\n",
      "\n",
      "    accuracy                           0.80       406\n",
      "   macro avg       0.80      0.80      0.80       406\n",
      "weighted avg       0.80      0.80      0.80       406\n",
      "\n"
     ]
    },
    {
     "data": {
      "text/plain": [
       "['../Models/DT_SMOTE.joblib']"
      ]
     },
     "execution_count": 15,
     "metadata": {},
     "output_type": "execute_result"
    }
   ],
   "source": [
    "DT2 =training(X_train, y_train)\n",
    "y_pred = predict('SMOTE',DT2, X_test, y_test)\n",
    "\n",
    "# Assume 'model' is your trained model\n",
    "dump(DT2, '../Models/DT_SMOTE.joblib')\n"
   ]
  },
  {
   "cell_type": "code",
   "execution_count": 16,
   "metadata": {},
   "outputs": [
    {
     "name": "stdout",
     "output_type": "stream",
     "text": [
      "Fitting 5 folds for each of 108 candidates, totalling 540 fits\n",
      "{'dt__criterion': 'gini', 'dt__max_depth': 10, 'dt__min_samples_leaf': 4, 'dt__min_samples_split': 10}\n",
      "0.8555555555555555\n",
      "              precision    recall  f1-score   support\n",
      "\n",
      "           0       0.84      0.87      0.85       205\n",
      "           1       0.86      0.83      0.84       201\n",
      "\n",
      "    accuracy                           0.85       406\n",
      "   macro avg       0.85      0.85      0.85       406\n",
      "weighted avg       0.85      0.85      0.85       406\n",
      "\n"
     ]
    }
   ],
   "source": [
    "best_DT2 = optimize_with_grid(X_train, y_train)\n",
    "prediction = predict('SMOTE_grid',best_DT2, X_test, y_test)"
   ]
  },
  {
   "cell_type": "markdown",
   "metadata": {},
   "source": [
    "<h1> DT using SMOTEENN sampling </h1>"
   ]
  },
  {
   "cell_type": "code",
   "execution_count": 17,
   "metadata": {},
   "outputs": [],
   "source": [
    "X,y = splitting_data(df, 'SMOTEENN')\n",
    "X_train, X_test, y_train, y_test = train_test_split(X, y, test_size=0.2, random_state=123)\n",
    "scaler = StandardScaler()\n",
    "X_train = scaler.fit_transform(X_train)\n",
    "X_test = scaler.transform(X_test)"
   ]
  },
  {
   "cell_type": "code",
   "execution_count": 18,
   "metadata": {},
   "outputs": [
    {
     "name": "stdout",
     "output_type": "stream",
     "text": [
      "Number of observations in each class in the set:\n",
      "1    153\n",
      "0    137\n",
      "Name: Class, dtype: int64\n"
     ]
    }
   ],
   "source": [
    "print(\"Number of observations in each class in the set:\")\n",
    "print(y.value_counts())"
   ]
  },
  {
   "cell_type": "code",
   "execution_count": 19,
   "metadata": {},
   "outputs": [
    {
     "name": "stdout",
     "output_type": "stream",
     "text": [
      "              precision    recall  f1-score   support\n",
      "\n",
      "           0       0.85      0.79      0.81        28\n",
      "           1       0.81      0.87      0.84        30\n",
      "\n",
      "    accuracy                           0.83        58\n",
      "   macro avg       0.83      0.83      0.83        58\n",
      "weighted avg       0.83      0.83      0.83        58\n",
      "\n"
     ]
    }
   ],
   "source": [
    "DT3 =training(X_train, y_train)\n",
    "y_pred = predict('SMOTEENN',DT3, X_test, y_test)"
   ]
  },
  {
   "cell_type": "code",
   "execution_count": 20,
   "metadata": {},
   "outputs": [
    {
     "name": "stdout",
     "output_type": "stream",
     "text": [
      "Fitting 5 folds for each of 108 candidates, totalling 540 fits\n",
      "{'dt__criterion': 'gini', 'dt__max_depth': None, 'dt__min_samples_leaf': 4, 'dt__min_samples_split': 10}\n",
      "0.7890841813135985\n",
      "              precision    recall  f1-score   support\n",
      "\n",
      "           0       0.96      0.82      0.88        28\n",
      "           1       0.85      0.97      0.91        30\n",
      "\n",
      "    accuracy                           0.90        58\n",
      "   macro avg       0.91      0.89      0.90        58\n",
      "weighted avg       0.90      0.90      0.90        58\n",
      "\n"
     ]
    }
   ],
   "source": [
    "best_DT3 = optimize_with_grid(X_train, y_train)\n",
    "prediction = predict('SMOTEENN_grid',best_DT3, X_test, y_test)"
   ]
  },
  {
   "cell_type": "markdown",
   "metadata": {},
   "source": [
    "<h1> DT on Random undersampling </h1>"
   ]
  },
  {
   "cell_type": "code",
   "execution_count": 21,
   "metadata": {},
   "outputs": [],
   "source": [
    "X,y = splitting_data(df, 'under')\n",
    "X_train, X_test, y_train, y_test = train_test_split(X, y, test_size=0.2, random_state=123)\n",
    "scaler = StandardScaler()\n",
    "X_train = scaler.fit_transform(X_train)\n",
    "X_test = scaler.transform(X_test)"
   ]
  },
  {
   "cell_type": "code",
   "execution_count": 22,
   "metadata": {},
   "outputs": [
    {
     "name": "stdout",
     "output_type": "stream",
     "text": [
      "Number of observations in each class in the set:\n",
      "0    987\n",
      "1    987\n",
      "Name: Class, dtype: int64\n"
     ]
    }
   ],
   "source": [
    "print(\"Number of observations in each class in the set:\")\n",
    "print(y.value_counts())"
   ]
  },
  {
   "cell_type": "code",
   "execution_count": 23,
   "metadata": {},
   "outputs": [
    {
     "name": "stdout",
     "output_type": "stream",
     "text": [
      "              precision    recall  f1-score   support\n",
      "\n",
      "           0       0.78      0.85      0.81       200\n",
      "           1       0.83      0.75      0.79       195\n",
      "\n",
      "    accuracy                           0.80       395\n",
      "   macro avg       0.81      0.80      0.80       395\n",
      "weighted avg       0.80      0.80      0.80       395\n",
      "\n"
     ]
    }
   ],
   "source": [
    "DT4 =training(X_train, y_train)\n",
    "y_pred = predict('undersampling',DT4, X_test, y_test)"
   ]
  },
  {
   "cell_type": "code",
   "execution_count": 24,
   "metadata": {},
   "outputs": [
    {
     "name": "stdout",
     "output_type": "stream",
     "text": [
      "Fitting 5 folds for each of 108 candidates, totalling 540 fits\n",
      "{'dt__criterion': 'gini', 'dt__max_depth': 10, 'dt__min_samples_leaf': 4, 'dt__min_samples_split': 10}\n",
      "0.8613039983926061\n",
      "              precision    recall  f1-score   support\n",
      "\n",
      "           0       0.80      0.88      0.84       200\n",
      "           1       0.86      0.78      0.82       195\n",
      "\n",
      "    accuracy                           0.83       395\n",
      "   macro avg       0.83      0.83      0.83       395\n",
      "weighted avg       0.83      0.83      0.83       395\n",
      "\n"
     ]
    }
   ],
   "source": [
    "best_DT4 = optimize_with_grid(X_train, y_train)\n",
    "prediction = predict('undersampling_grid',best_DT4, X_test, y_test)"
   ]
  },
  {
   "cell_type": "markdown",
   "metadata": {},
   "source": [
    "<h1> DT on Random Oversampling </h1>"
   ]
  },
  {
   "cell_type": "code",
   "execution_count": 25,
   "metadata": {},
   "outputs": [],
   "source": [
    "X,y = splitting_data(df,'over')\n",
    "X_train, X_test, y_train, y_test = train_test_split(X, y, test_size=0.2, random_state=123)\n",
    "scaler = StandardScaler()\n",
    "X_train = scaler.fit_transform(X_train)\n",
    "X_test = scaler.transform(X_test)"
   ]
  },
  {
   "cell_type": "code",
   "execution_count": 26,
   "metadata": {},
   "outputs": [
    {
     "name": "stdout",
     "output_type": "stream",
     "text": [
      "Number of observations in each class in the set:\n",
      "1    1013\n",
      "0    1013\n",
      "Name: Class, dtype: int64\n"
     ]
    }
   ],
   "source": [
    "print(\"Number of observations in each class in the set:\")\n",
    "print(y.value_counts())"
   ]
  },
  {
   "cell_type": "code",
   "execution_count": 27,
   "metadata": {},
   "outputs": [
    {
     "name": "stdout",
     "output_type": "stream",
     "text": [
      "              precision    recall  f1-score   support\n",
      "\n",
      "           0       0.86      0.82      0.83       211\n",
      "           1       0.81      0.85      0.83       195\n",
      "\n",
      "    accuracy                           0.83       406\n",
      "   macro avg       0.83      0.83      0.83       406\n",
      "weighted avg       0.83      0.83      0.83       406\n",
      "\n"
     ]
    }
   ],
   "source": [
    "DT5 =training(X_train, y_train)\n",
    "y_pred = predict('oversampling',DT5, X_test, y_test)"
   ]
  },
  {
   "cell_type": "code",
   "execution_count": 28,
   "metadata": {},
   "outputs": [
    {
     "name": "stdout",
     "output_type": "stream",
     "text": [
      "Fitting 5 folds for each of 108 candidates, totalling 540 fits\n",
      "{'dt__criterion': 'gini', 'dt__max_depth': 10, 'dt__min_samples_leaf': 1, 'dt__min_samples_split': 10}\n",
      "0.8567901234567902\n",
      "              precision    recall  f1-score   support\n",
      "\n",
      "           0       0.85      0.86      0.85       211\n",
      "           1       0.84      0.83      0.84       195\n",
      "\n",
      "    accuracy                           0.84       406\n",
      "   macro avg       0.84      0.84      0.84       406\n",
      "weighted avg       0.84      0.84      0.84       406\n",
      "\n"
     ]
    }
   ],
   "source": [
    "best_DT5 = optimize_with_grid(X_train, y_train)\n",
    "prediction = predict('oversampling_grid',best_DT5, X_test, y_test)"
   ]
  },
  {
   "cell_type": "markdown",
   "metadata": {},
   "source": [
    "<h1> DT on Cluster Centroids </h1>"
   ]
  },
  {
   "cell_type": "code",
   "execution_count": 29,
   "metadata": {},
   "outputs": [
    {
     "name": "stderr",
     "output_type": "stream",
     "text": [
      "/opt/homebrew/anaconda3/lib/python3.10/site-packages/sklearn/cluster/_kmeans.py:870: FutureWarning: The default value of `n_init` will change from 10 to 'auto' in 1.4. Set the value of `n_init` explicitly to suppress the warning\n",
      "  warnings.warn(\n"
     ]
    }
   ],
   "source": [
    "X,y = splitting_data(df, 'cluster_centroids')\n",
    "X_train, X_test, y_train, y_test = train_test_split(X, y, test_size=0.2, random_state=123)\n",
    "scaler = StandardScaler()\n",
    "X_train = scaler.fit_transform(X_train)\n",
    "X_test = scaler.transform(X_test)"
   ]
  },
  {
   "cell_type": "code",
   "execution_count": 30,
   "metadata": {},
   "outputs": [
    {
     "name": "stdout",
     "output_type": "stream",
     "text": [
      "Number of observations in each class in the set:\n",
      "0    987\n",
      "1    987\n",
      "Name: Class, dtype: int64\n"
     ]
    }
   ],
   "source": [
    "print(\"Number of observations in each class in the set:\")\n",
    "print(y.value_counts())"
   ]
  },
  {
   "cell_type": "code",
   "execution_count": 31,
   "metadata": {},
   "outputs": [
    {
     "name": "stdout",
     "output_type": "stream",
     "text": [
      "              precision    recall  f1-score   support\n",
      "\n",
      "           0       0.82      0.86      0.84       200\n",
      "           1       0.85      0.81      0.83       195\n",
      "\n",
      "    accuracy                           0.84       395\n",
      "   macro avg       0.84      0.84      0.84       395\n",
      "weighted avg       0.84      0.84      0.84       395\n",
      "\n"
     ]
    }
   ],
   "source": [
    "DT6 = training(X_train, y_train)\n",
    "y_pred = predict('cluster_centroids',DT6, X_test, y_test)"
   ]
  },
  {
   "cell_type": "code",
   "execution_count": 32,
   "metadata": {},
   "outputs": [
    {
     "name": "stdout",
     "output_type": "stream",
     "text": [
      "Fitting 5 folds for each of 108 candidates, totalling 540 fits\n",
      "{'dt__criterion': 'gini', 'dt__max_depth': 10, 'dt__min_samples_leaf': 1, 'dt__min_samples_split': 5}\n",
      "0.8562366887683343\n",
      "              precision    recall  f1-score   support\n",
      "\n",
      "           0       0.82      0.89      0.85       200\n",
      "           1       0.87      0.81      0.84       195\n",
      "\n",
      "    accuracy                           0.85       395\n",
      "   macro avg       0.85      0.85      0.85       395\n",
      "weighted avg       0.85      0.85      0.85       395\n",
      "\n"
     ]
    }
   ],
   "source": [
    "best_DT6 = optimize_with_grid(X_train, y_train)\n",
    "prediction = predict('cluster_centroids_grid',best_DT6, X_test, y_test)"
   ]
  },
  {
   "cell_type": "markdown",
   "metadata": {},
   "source": [
    "<h1> DT on Tomek Links </h1>"
   ]
  },
  {
   "cell_type": "code",
   "execution_count": 33,
   "metadata": {},
   "outputs": [],
   "source": [
    "X,y = splitting_data(df, 'tomek_links')\n",
    "X_train, X_test, y_train, y_test = train_test_split(X, y, test_size=0.2, random_state=123)\n",
    "scaler = StandardScaler()\n",
    "X_train = scaler.fit_transform(X_train)\n",
    "X_test = scaler.transform(X_test)"
   ]
  },
  {
   "cell_type": "code",
   "execution_count": 34,
   "metadata": {},
   "outputs": [
    {
     "name": "stdout",
     "output_type": "stream",
     "text": [
      "Number of observations in each class in the set:\n",
      "1    987\n",
      "0    694\n",
      "Name: Class, dtype: int64\n"
     ]
    }
   ],
   "source": [
    "print(\"Number of observations in each class in the set:\")\n",
    "print(y.value_counts())"
   ]
  },
  {
   "cell_type": "code",
   "execution_count": 35,
   "metadata": {},
   "outputs": [
    {
     "name": "stdout",
     "output_type": "stream",
     "text": [
      "              precision    recall  f1-score   support\n",
      "\n",
      "           0       0.81      0.81      0.81       139\n",
      "           1       0.86      0.86      0.86       198\n",
      "\n",
      "    accuracy                           0.84       337\n",
      "   macro avg       0.83      0.83      0.83       337\n",
      "weighted avg       0.84      0.84      0.84       337\n",
      "\n"
     ]
    }
   ],
   "source": [
    "DT7 =training(X_train, y_train)\n",
    "y_pred = predict('tomek_links',DT7, X_test, y_test)"
   ]
  },
  {
   "cell_type": "code",
   "execution_count": 36,
   "metadata": {},
   "outputs": [
    {
     "name": "stdout",
     "output_type": "stream",
     "text": [
      "Fitting 5 folds for each of 108 candidates, totalling 540 fits\n",
      "{'dt__criterion': 'entropy', 'dt__max_depth': 10, 'dt__min_samples_leaf': 4, 'dt__min_samples_split': 10}\n",
      "0.8534345003606502\n",
      "              precision    recall  f1-score   support\n",
      "\n",
      "           0       0.81      0.89      0.85       139\n",
      "           1       0.92      0.85      0.88       198\n",
      "\n",
      "    accuracy                           0.87       337\n",
      "   macro avg       0.86      0.87      0.86       337\n",
      "weighted avg       0.87      0.87      0.87       337\n",
      "\n"
     ]
    }
   ],
   "source": [
    "best_DT7 = optimize_with_grid(X_train, y_train)\n",
    "prediction = predict('tomek_links_grid',best_DT7, X_test, y_test)"
   ]
  },
  {
   "cell_type": "code",
   "execution_count": 37,
   "metadata": {},
   "outputs": [
    {
     "data": {
      "text/plain": [
       "{'original': {'accuracy': 0.825,\n",
       "  'precision': 0.825,\n",
       "  'recall': 0.825,\n",
       "  'f1': 0.825},\n",
       " 'original_grid': {'accuracy': 0.8475,\n",
       "  'precision': 0.8488768070395978,\n",
       "  'recall': 0.8475,\n",
       "  'f1': 0.8472889782169042},\n",
       " 'SMOTE': {'accuracy': 0.7980295566502463,\n",
       "  'precision': 0.7982314139529371,\n",
       "  'recall': 0.7980295566502463,\n",
       "  'f1': 0.7979559951542711},\n",
       " 'SMOTE_grid': {'accuracy': 0.8497536945812808,\n",
       "  'precision': 0.8503773709773952,\n",
       "  'recall': 0.8497536945812808,\n",
       "  'f1': 0.8496469408435314},\n",
       " 'SMOTEENN': {'accuracy': 0.8275862068965517,\n",
       "  'precision': 0.8287466843501327,\n",
       "  'recall': 0.8275862068965517,\n",
       "  'f1': 0.8271742265068184},\n",
       " 'SMOTEENN_grid': {'accuracy': 0.896551724137931,\n",
       "  'precision': 0.9038201487491548,\n",
       "  'recall': 0.896551724137931,\n",
       "  'f1': 0.895805702917772},\n",
       " 'undersampling': {'accuracy': 0.8025316455696202,\n",
       "  'precision': 0.8048416589738391,\n",
       "  'recall': 0.8025316455696202,\n",
       "  'f1': 0.8020058963623469},\n",
       " 'undersampling_grid': {'accuracy': 0.830379746835443,\n",
       "  'precision': 0.833265024092144,\n",
       "  'recall': 0.830379746835443,\n",
       "  'f1': 0.8298821763432364},\n",
       " 'oversampling': {'accuracy': 0.8325123152709359,\n",
       "  'precision': 0.83364446540576,\n",
       "  'recall': 0.8325123152709359,\n",
       "  'f1': 0.8325732937969297},\n",
       " 'oversampling_grid': {'accuracy': 0.8448275862068966,\n",
       "  'precision': 0.8448124798582018,\n",
       "  'recall': 0.8448275862068966,\n",
       "  'f1': 0.8447738100853813},\n",
       " 'cluster_centroids': {'accuracy': 0.8354430379746836,\n",
       "  'precision': 0.8360467410777956,\n",
       "  'recall': 0.8354430379746836,\n",
       "  'f1': 0.8353099807310691},\n",
       " 'cluster_centroids_grid': {'accuracy': 0.8455696202531645,\n",
       "  'precision': 0.8474291041114709,\n",
       "  'recall': 0.8455696202531645,\n",
       "  'f1': 0.8452719231355802},\n",
       " 'tomek_links': {'accuracy': 0.8397626112759644,\n",
       "  'precision': 0.8397626112759644,\n",
       "  'recall': 0.8397626112759644,\n",
       "  'f1': 0.8397626112759644},\n",
       " 'tomek_links_grid': {'accuracy': 0.8664688427299704,\n",
       "  'precision': 0.8714913048230167,\n",
       "  'recall': 0.8664688427299704,\n",
       "  'f1': 0.8672583096778999}}"
      ]
     },
     "execution_count": 37,
     "metadata": {},
     "output_type": "execute_result"
    }
   ],
   "source": [
    "best_model"
   ]
  },
  {
   "cell_type": "code",
   "execution_count": 38,
   "metadata": {},
   "outputs": [
    {
     "data": {
      "text/html": [
       "<div>\n",
       "<style scoped>\n",
       "    .dataframe tbody tr th:only-of-type {\n",
       "        vertical-align: middle;\n",
       "    }\n",
       "\n",
       "    .dataframe tbody tr th {\n",
       "        vertical-align: top;\n",
       "    }\n",
       "\n",
       "    .dataframe thead th {\n",
       "        text-align: right;\n",
       "    }\n",
       "</style>\n",
       "<table border=\"1\" class=\"dataframe\">\n",
       "  <thead>\n",
       "    <tr style=\"text-align: right;\">\n",
       "      <th></th>\n",
       "      <th>accuracy</th>\n",
       "      <th>precision</th>\n",
       "      <th>recall</th>\n",
       "      <th>f1</th>\n",
       "    </tr>\n",
       "  </thead>\n",
       "  <tbody>\n",
       "    <tr>\n",
       "      <th>SMOTEENN_grid</th>\n",
       "      <td>0.896552</td>\n",
       "      <td>0.903820</td>\n",
       "      <td>0.896552</td>\n",
       "      <td>0.895806</td>\n",
       "    </tr>\n",
       "    <tr>\n",
       "      <th>tomek_links_grid</th>\n",
       "      <td>0.866469</td>\n",
       "      <td>0.871491</td>\n",
       "      <td>0.866469</td>\n",
       "      <td>0.867258</td>\n",
       "    </tr>\n",
       "    <tr>\n",
       "      <th>SMOTE_grid</th>\n",
       "      <td>0.849754</td>\n",
       "      <td>0.850377</td>\n",
       "      <td>0.849754</td>\n",
       "      <td>0.849647</td>\n",
       "    </tr>\n",
       "    <tr>\n",
       "      <th>original_grid</th>\n",
       "      <td>0.847500</td>\n",
       "      <td>0.848877</td>\n",
       "      <td>0.847500</td>\n",
       "      <td>0.847289</td>\n",
       "    </tr>\n",
       "    <tr>\n",
       "      <th>cluster_centroids_grid</th>\n",
       "      <td>0.845570</td>\n",
       "      <td>0.847429</td>\n",
       "      <td>0.845570</td>\n",
       "      <td>0.845272</td>\n",
       "    </tr>\n",
       "    <tr>\n",
       "      <th>oversampling_grid</th>\n",
       "      <td>0.844828</td>\n",
       "      <td>0.844812</td>\n",
       "      <td>0.844828</td>\n",
       "      <td>0.844774</td>\n",
       "    </tr>\n",
       "    <tr>\n",
       "      <th>tomek_links</th>\n",
       "      <td>0.839763</td>\n",
       "      <td>0.839763</td>\n",
       "      <td>0.839763</td>\n",
       "      <td>0.839763</td>\n",
       "    </tr>\n",
       "    <tr>\n",
       "      <th>cluster_centroids</th>\n",
       "      <td>0.835443</td>\n",
       "      <td>0.836047</td>\n",
       "      <td>0.835443</td>\n",
       "      <td>0.835310</td>\n",
       "    </tr>\n",
       "    <tr>\n",
       "      <th>oversampling</th>\n",
       "      <td>0.832512</td>\n",
       "      <td>0.833644</td>\n",
       "      <td>0.832512</td>\n",
       "      <td>0.832573</td>\n",
       "    </tr>\n",
       "    <tr>\n",
       "      <th>undersampling_grid</th>\n",
       "      <td>0.830380</td>\n",
       "      <td>0.833265</td>\n",
       "      <td>0.830380</td>\n",
       "      <td>0.829882</td>\n",
       "    </tr>\n",
       "    <tr>\n",
       "      <th>SMOTEENN</th>\n",
       "      <td>0.827586</td>\n",
       "      <td>0.828747</td>\n",
       "      <td>0.827586</td>\n",
       "      <td>0.827174</td>\n",
       "    </tr>\n",
       "    <tr>\n",
       "      <th>original</th>\n",
       "      <td>0.825000</td>\n",
       "      <td>0.825000</td>\n",
       "      <td>0.825000</td>\n",
       "      <td>0.825000</td>\n",
       "    </tr>\n",
       "    <tr>\n",
       "      <th>undersampling</th>\n",
       "      <td>0.802532</td>\n",
       "      <td>0.804842</td>\n",
       "      <td>0.802532</td>\n",
       "      <td>0.802006</td>\n",
       "    </tr>\n",
       "    <tr>\n",
       "      <th>SMOTE</th>\n",
       "      <td>0.798030</td>\n",
       "      <td>0.798231</td>\n",
       "      <td>0.798030</td>\n",
       "      <td>0.797956</td>\n",
       "    </tr>\n",
       "  </tbody>\n",
       "</table>\n",
       "</div>"
      ],
      "text/plain": [
       "                        accuracy  precision    recall        f1\n",
       "SMOTEENN_grid           0.896552   0.903820  0.896552  0.895806\n",
       "tomek_links_grid        0.866469   0.871491  0.866469  0.867258\n",
       "SMOTE_grid              0.849754   0.850377  0.849754  0.849647\n",
       "original_grid           0.847500   0.848877  0.847500  0.847289\n",
       "cluster_centroids_grid  0.845570   0.847429  0.845570  0.845272\n",
       "oversampling_grid       0.844828   0.844812  0.844828  0.844774\n",
       "tomek_links             0.839763   0.839763  0.839763  0.839763\n",
       "cluster_centroids       0.835443   0.836047  0.835443  0.835310\n",
       "oversampling            0.832512   0.833644  0.832512  0.832573\n",
       "undersampling_grid      0.830380   0.833265  0.830380  0.829882\n",
       "SMOTEENN                0.827586   0.828747  0.827586  0.827174\n",
       "original                0.825000   0.825000  0.825000  0.825000\n",
       "undersampling           0.802532   0.804842  0.802532  0.802006\n",
       "SMOTE                   0.798030   0.798231  0.798030  0.797956"
      ]
     },
     "execution_count": 38,
     "metadata": {},
     "output_type": "execute_result"
    }
   ],
   "source": [
    "best_model_df = pd.DataFrame.from_dict(best_model, orient='index')\n",
    "best_model_df.sort_values(by='accuracy', ascending=False, inplace=True)\n",
    "best_model_df"
   ]
  },
  {
   "cell_type": "code",
   "execution_count": null,
   "metadata": {},
   "outputs": [],
   "source": []
  }
 ],
 "metadata": {
  "kernelspec": {
   "display_name": "Python 3",
   "language": "python",
   "name": "python3"
  },
  "language_info": {
   "codemirror_mode": {
    "name": "ipython",
    "version": 3
   },
   "file_extension": ".py",
   "mimetype": "text/x-python",
   "name": "python",
   "nbconvert_exporter": "python",
   "pygments_lexer": "ipython3",
   "version": "3.10.9"
  }
 },
 "nbformat": 4,
 "nbformat_minor": 2
}
